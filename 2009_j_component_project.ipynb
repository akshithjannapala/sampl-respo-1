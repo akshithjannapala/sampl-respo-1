{
  "nbformat": 4,
  "nbformat_minor": 0,
  "metadata": {
    "colab": {
      "name": "2009  j-component project",
      "provenance": [],
      "collapsed_sections": []
    },
    "kernelspec": {
      "display_name": "Python 3",
      "name": "python3"
    }
  },
  "cells": [
    {
      "cell_type": "markdown",
      "metadata": {
        "id": "5fCEDCU_qrC0"
      },
      "source": [
        "<p><img alt=\"Colaboratory logo\" height=\"45px\" src=\"/img/colab_favicon.ico\" align=\"left\" hspace=\"10px\" vspace=\"0px\"></p>\n",
        "\n",
        "<h1>What is Colaboratory?</h1>\n",
        "\n",
        "Colaboratory, or \"Colab\" for short, allows you to write and execute Python in your browser, with \n",
        "- Zero configuration required\n",
        "- Free access to GPUs\n",
        "- Easy sharing\n",
        "\n",
        "Whether you're a **student**, a **data scientist** or an **AI researcher**, Colab can make your work easier. Watch [Introduction to Colab](https://www.youtube.com/watch?v=inN8seMm7UI) to learn more, or just get started below!"
      ]
    },
    {
      "cell_type": "markdown",
      "metadata": {
        "id": "GJBs_flRovLc"
      },
      "source": [
        "## **Getting started**\n",
        "\n",
        "The document you are reading is not a static web page, but an interactive environment called a **Colab notebook** that lets you write and execute code.\n",
        "\n",
        "For example, here is a **code cell** with a short Python script that computes a value, stores it in a variable, and prints the result:"
      ]
    },
    {
      "cell_type": "code",
      "metadata": {
        "colab": {
          "base_uri": "https://localhost:8080/",
          "height": 34
        },
        "id": "gJr_9dXGpJ05",
        "outputId": "9f556d03-ec67-4950-a485-cfdba9ddd14d"
      },
      "source": [
        "seconds_in_a_day = 24 * 60 * 60\n",
        "seconds_in_a_day"
      ],
      "execution_count": null,
      "outputs": [
        {
          "data": {
            "text/plain": [
              "86400"
            ]
          },
          "execution_count": 0,
          "metadata": {
            "tags": []
          },
          "output_type": "execute_result"
        }
      ]
    },
    {
      "cell_type": "markdown",
      "metadata": {
        "id": "2fhs6GZ4qFMx"
      },
      "source": [
        "To execute the code in the above cell, select it with a click and then either press the play button to the left of the code, or use the keyboard shortcut \"Command/Ctrl+Enter\". To edit the code, just click the cell and start editing.\n",
        "\n",
        "Variables that you define in one cell can later be used in other cells:"
      ]
    },
    {
      "cell_type": "code",
      "metadata": {
        "colab": {
          "base_uri": "https://localhost:8080/",
          "height": 34
        },
        "id": "-gE-Ez1qtyIA",
        "outputId": "94cb2224-0edf-457b-90b5-0ac3488d8a97"
      },
      "source": [
        "seconds_in_a_week = 7 * seconds_in_a_day\n",
        "seconds_in_a_week"
      ],
      "execution_count": null,
      "outputs": [
        {
          "data": {
            "text/plain": [
              "604800"
            ]
          },
          "execution_count": 0,
          "metadata": {
            "tags": []
          },
          "output_type": "execute_result"
        }
      ]
    },
    {
      "cell_type": "markdown",
      "metadata": {
        "id": "lSrWNr3MuFUS"
      },
      "source": [
        "Colab notebooks allow you to combine **executable code** and **rich text** in a single document, along with **images**, **HTML**, **LaTeX** and more. When you create your own Colab notebooks, they are stored in your Google Drive account. You can easily share your Colab notebooks with co-workers or friends, allowing them to comment on your notebooks or even edit them. To learn more, see [Overview of Colab](/notebooks/basic_features_overview.ipynb). To create a new Colab notebook you can use the File menu above, or use the following link: [create a new Colab notebook](http://colab.research.google.com#create=true).\n",
        "\n",
        "Colab notebooks are Jupyter notebooks that are hosted by Colab. To learn more about the Jupyter project, see [jupyter.org](https://www.jupyter.org)."
      ]
    },
    {
      "cell_type": "markdown",
      "metadata": {
        "id": "UdRyKR44dcNI"
      },
      "source": [
        "## Data science\n",
        "\n",
        "With Colab you can harness the full power of popular Python libraries to analyze and visualize data. The code cell below uses **numpy** to generate some random data, and uses **matplotlib** to visualize it. To edit the code, just click the cell and start editing."
      ]
    },
    {
      "cell_type": "code",
      "metadata": {
        "colab": {
          "base_uri": "https://localhost:8080/",
          "height": 281
        },
        "id": "C4HZx7Gndbrh",
        "outputId": "46abc637-6abd-41b2-9bba-80a7ae992e06"
      },
      "source": [
        "import numpy as np\n",
        "from matplotlib import pyplot as plt\n",
        "\n",
        "ys = 200 + np.random.randn(100)\n",
        "x = [x for x in range(len(ys))]\n",
        "\n",
        "plt.plot(x, ys, '-')\n",
        "plt.fill_between(x, ys, 195, where=(ys > 195), facecolor='g', alpha=0.6)\n",
        "\n",
        "plt.title(\"Sample Visualization\")\n",
        "plt.show()"
      ],
      "execution_count": null,
      "outputs": [
        {
          "data": {
            "image/png": "[encoded data removed]",
            "text/plain": [
              "<Figure size 432x288 with 1 Axes>"
            ]
          },
          "metadata": {
            "tags": []
          },
          "output_type": "display_data"
        }
      ]
    },
    {
      "cell_type": "markdown",
      "metadata": {
        "id": "4_kCnsPUqS6o"
      },
      "source": [
        "You can import your own data into Colab notebooks from your Google Drive account, including from spreadsheets, as well as from Github and many other sources. To learn more about importing data, and how Colab can be used for data science, see the links below under [Working with Data](#working-with-data)."
      ]
    },
    {
      "cell_type": "markdown",
      "metadata": {
        "id": "OwuxHmxllTwN"
      },
      "source": [
        "## Machine learning\n",
        "\n",
        "With Colab you can import an image dataset, train an image classifier on it, and evaluate the model, all in just [a few lines of code](https://colab.research.google.com/github/tensorflow/docs/blob/master/site/en/tutorials/quickstart/beginner.ipynb). Colab notebooks execute code on Google's cloud servers, meaning you can leverage the power of Google hardware, including [GPUs and TPUs](#using-accelerated-hardware), regardless of the power of your machine. All you need is a browser."
      ]
    },
    {
      "cell_type": "markdown",
      "metadata": {
        "id": "ufxBm1yRnruN"
      },
      "source": [
        "Colab is used extensively in the machine learning community with applications including:\n",
        "- Getting started with TensorFlow\n",
        "- Developing and training neural networks\n",
        "- Experimenting with TPUs\n",
        "- Disseminating AI research\n",
        "- Creating tutorials\n",
        "\n",
        "To see sample Colab notebooks that demonstrate machine learning applications, see the [machine learning examples](#machine-learning-examples) below."
      ]
    },
    {
      "cell_type": "markdown",
      "metadata": {
        "id": "-Rh3-Vt9Nev9"
      },
      "source": [
        "## More Resources\n",
        "\n",
        "### Working with Notebooks in Colab\n",
        "- [Overview of Colaboratory](/notebooks/basic_features_overview.ipynb)\n",
        "- [Guide to Markdown](/notebooks/markdown_guide.ipynb)\n",
        "- [Importing libraries and installing dependencies](/notebooks/snippets/importing_libraries.ipynb)\n",
        "- [Saving and loading notebooks in GitHub](https://colab.research.google.com/github/googlecolab/colabtools/blob/master/notebooks/colab-github-demo.ipynb)\n",
        "- [Interactive forms](/notebooks/forms.ipynb)\n",
        "- [Interactive widgets](/notebooks/widgets.ipynb)\n",
        "- <img src=\"/img/new.png\" height=\"20px\" align=\"left\" hspace=\"4px\" alt=\"New\"></img>\n",
        " [TensorFlow 2 in Colab](/notebooks/tensorflow_version.ipynb)\n",
        "\n",
        "<a name=\"working-with-data\"></a>\n",
        "### Working with Data\n",
        "- [Loading data: Drive, Sheets, and Google Cloud Storage](/notebooks/io.ipynb) \n",
        "- [Charts: visualizing data](/notebooks/charts.ipynb)\n",
        "- [Getting started with BigQuery](/notebooks/bigquery.ipynb)\n",
        "\n",
        "### Machine Learning Crash Course\n",
        "These are a few of the notebooks from Google's online Machine Learning course. See the [full course website](https://developers.google.com/machine-learning/crash-course/) for more.\n",
        "- [Intro to Pandas DataFrame](https://colab.research.google.com/github/google/eng-edu/blob/main/ml/cc/exercises/pandas_dataframe_ultraquick_tutorial.ipynb)\n",
        "- [Linear regression with tf.keras using synthetic data](https://colab.research.google.com/github/google/eng-edu/blob/main/ml/cc/exercises/linear_regression_with_synthetic_data.ipynb)\n",
        "\n",
        "\n",
        "<a name=\"using-accelerated-hardware\"></a>\n",
        "### Using Accelerated Hardware\n",
        "- [TensorFlow with GPUs](/notebooks/gpu.ipynb)\n",
        "- [TensorFlow with TPUs](/notebooks/tpu.ipynb)"
      ]
    },
    {
      "cell_type": "markdown",
      "metadata": {
        "id": "P-H6Lw1vyNNd"
      },
      "source": [
        "<a name=\"machine-learning-examples\"></a>\n",
        "\n",
        "## Machine Learning Examples\n",
        "\n",
        "To see end-to-end examples of the interactive machine learning analyses that Colaboratory makes possible, check out these  tutorials using models from [TensorFlow Hub](https://tfhub.dev).\n",
        "\n",
        "A few featured examples:\n",
        "\n",
        "- [Retraining an Image Classifier](https://tensorflow.org/hub/tutorials/tf2_image_retraining): Build a Keras model on top of a pre-trained image classifier to distinguish flowers.\n",
        "- [Text Classification](https://tensorflow.org/hub/tutorials/tf2_text_classification): Classify IMDB movie reviews as either *positive* or *negative*.\n",
        "- [Style Transfer](https://tensorflow.org/hub/tutorials/tf2_arbitrary_image_stylization): Use deep learning to transfer style between images.\n",
        "- [Multilingual Universal Sentence Encoder Q&A](https://tensorflow.org/hub/tutorials/retrieval_with_tf_hub_universal_encoder_qa): Use a machine learning model to answer questions from the SQuAD dataset.\n",
        "- [Video Interpolation](https://tensorflow.org/hub/tutorials/tweening_conv3d): Predict what happened in a video between the first and the last frame.\n"
      ]
    },
    {
      "cell_type": "code",
      "metadata": {
        "id": "IwI5xealLyTC",
        "colab": {
          "base_uri": "https://localhost:8080/"
        },
        "outputId": "de6d82d3-70e3-4cf2-88e6-3a29a3e28f3f"
      },
      "source": [
        "import pandas as pd\n",
        "d=pd.read_csv('/content/garments_worker_productivity.csv')\n",
        "print(d)"
      ],
      "execution_count": 9,
      "outputs": [
        {
          "output_type": "stream",
          "name": "stdout",
          "text": [
            "            date   quarter  ... no_of_workers actual_productivity\n",
            "0     01-01-2015  Quarter1  ...          59.0            0.940725\n",
            "1     01-01-2015  Quarter1  ...           8.0            0.886500\n",
            "2     01-01-2015  Quarter1  ...          30.5            0.800570\n",
            "3     01-01-2015  Quarter1  ...          30.5            0.800570\n",
            "4     01-01-2015  Quarter1  ...          56.0            0.800382\n",
            "...          ...       ...  ...           ...                 ...\n",
            "1192  03-11-2015  Quarter2  ...           8.0            0.628333\n",
            "1193  03-11-2015  Quarter2  ...           8.0            0.625625\n",
            "1194  03-11-2015  Quarter2  ...           8.0            0.625625\n",
            "1195  03-11-2015  Quarter2  ...          15.0            0.505889\n",
            "1196  03-11-2015  Quarter2  ...           6.0            0.394722\n",
            "\n",
            "[1197 rows x 15 columns]\n"
          ]
        }
      ]
    },
    {
      "cell_type": "code",
      "metadata": {
        "id": "Yg0ASYQlMLf8",
        "colab": {
          "base_uri": "https://localhost:8080/"
        },
        "outputId": "c9e167ee-1b88-4fd1-8942-ae14a9f70f26"
      },
      "source": [
        "x1=d['team']\n",
        "x2=d['targeted_productivity']\n",
        "x3=d['smv']\n",
        "x4=d['wip']\n",
        "x5=d['over_time']\n",
        "x6=d['incentive']\n",
        "x7=d['idle_time']\n",
        "x8=d['idle_men']\n",
        "x9=d['no_of_style_change']\n",
        "x10=d['no_of_workers']\n",
        "y=d['targeted_productivity']\n",
        "print(x1,x2,x3,x4,x5,x6,x7,x8,x9,x10,y)"
      ],
      "execution_count": 10,
      "outputs": [
        {
          "output_type": "stream",
          "name": "stdout",
          "text": [
            "0        8\n",
            "1        1\n",
            "2       11\n",
            "3       12\n",
            "4        6\n",
            "        ..\n",
            "1192    10\n",
            "1193     8\n",
            "1194     7\n",
            "1195     9\n",
            "1196     6\n",
            "Name: team, Length: 1197, dtype: int64 0       0.80\n",
            "1       0.75\n",
            "2       0.80\n",
            "3       0.80\n",
            "4       0.80\n",
            "        ... \n",
            "1192    0.75\n",
            "1193    0.70\n",
            "1194    0.65\n",
            "1195    0.75\n",
            "1196    0.70\n",
            "Name: targeted_productivity, Length: 1197, dtype: float64 0       26.16\n",
            "1        3.94\n",
            "2       11.41\n",
            "3       11.41\n",
            "4       25.90\n",
            "        ...  \n",
            "1192     2.90\n",
            "1193     3.90\n",
            "1194     3.90\n",
            "1195     2.90\n",
            "1196     2.90\n",
            "Name: smv, Length: 1197, dtype: float64 0       1108.0\n",
            "1          NaN\n",
            "2        968.0\n",
            "3        968.0\n",
            "4       1170.0\n",
            "         ...  \n",
            "1192       NaN\n",
            "1193       NaN\n",
            "1194       NaN\n",
            "1195       NaN\n",
            "1196       NaN\n",
            "Name: wip, Length: 1197, dtype: float64 0       7080\n",
            "1        960\n",
            "2       3660\n",
            "3       3660\n",
            "4       1920\n",
            "        ... \n",
            "1192     960\n",
            "1193     960\n",
            "1194     960\n",
            "1195    1800\n",
            "1196     720\n",
            "Name: over_time, Length: 1197, dtype: int64 0       98\n",
            "1        0\n",
            "2       50\n",
            "3       50\n",
            "4       50\n",
            "        ..\n",
            "1192     0\n",
            "1193     0\n",
            "1194     0\n",
            "1195     0\n",
            "1196     0\n",
            "Name: incentive, Length: 1197, dtype: int64 0       0.0\n",
            "1       0.0\n",
            "2       0.0\n",
            "3       0.0\n",
            "4       0.0\n",
            "       ... \n",
            "1192    0.0\n",
            "1193    0.0\n",
            "1194    0.0\n",
            "1195    0.0\n",
            "1196    0.0\n",
            "Name: idle_time, Length: 1197, dtype: float64 0       0\n",
            "1       0\n",
            "2       0\n",
            "3       0\n",
            "4       0\n",
            "       ..\n",
            "1192    0\n",
            "1193    0\n",
            "1194    0\n",
            "1195    0\n",
            "1196    0\n",
            "Name: idle_men, Length: 1197, dtype: int64 0       0\n",
            "1       0\n",
            "2       0\n",
            "3       0\n",
            "4       0\n",
            "       ..\n",
            "1192    0\n",
            "1193    0\n",
            "1194    0\n",
            "1195    0\n",
            "1196    0\n",
            "Name: no_of_style_change, Length: 1197, dtype: int64 0       59.0\n",
            "1        8.0\n",
            "2       30.5\n",
            "3       30.5\n",
            "4       56.0\n",
            "        ... \n",
            "1192     8.0\n",
            "1193     8.0\n",
            "1194     8.0\n",
            "1195    15.0\n",
            "1196     6.0\n",
            "Name: no_of_workers, Length: 1197, dtype: float64 0       0.80\n",
            "1       0.75\n",
            "2       0.80\n",
            "3       0.80\n",
            "4       0.80\n",
            "        ... \n",
            "1192    0.75\n",
            "1193    0.70\n",
            "1194    0.65\n",
            "1195    0.75\n",
            "1196    0.70\n",
            "Name: targeted_productivity, Length: 1197, dtype: float64\n"
          ]
        }
      ]
    },
    {
      "cell_type": "code",
      "metadata": {
        "id": "lGku1loaLyXh"
      },
      "source": [
        "import numpy as np\n",
        "\n",
        "\n",
        "def linear(m,m1,m2,m3,m4,m5,m6,m7,m8,m9,c):\n",
        "  sum=0\n",
        "  yp=[]\n",
        "  e=[]\n",
        "\n",
        "  for i in range(0,len(x10)):\n",
        "    yp.append(m*x1[i]+m1*x2[i]+m2*x3[i]+m3*x4[i]+m4*x5[i]+m5*x6[i]+m6*x7[i]+m7*x8[i]+m8*x9[i]+m9*x10[i]+c)\n",
        "    g=(y[i]-yp[i])**2\n",
        "    sum=sum+g\n",
        "    e.append(g)\n",
        "    print(m,m1,m2,m3,m4,m5,m6,m7,m8,m9,c,np.mod(sum,len(x10)))\n",
        "    sum=0\n",
        "\n",
        "for i in range(1,1000):\n",
        "  linear(1+i,2+i,3+i,4+i,5+i,6+i,7+i,8+i,9+i,10+i,11+i)\n"
      ],
      "execution_count": null,
      "outputs": []
    },
    {
      "cell_type": "code",
      "metadata": {
        "id": "h2sNStP1LyhJ",
        "colab": {
          "base_uri": "https://localhost:8080/"
        },
        "outputId": "97568366-ada0-49d2-e850-8fe71bc2571d"
      },
      "source": [
        "j_test=d[0:800: ]\n",
        "j_train=d[801:1197: ]\n",
        "print( j_test)"
      ],
      "execution_count": 16,
      "outputs": [
        {
          "output_type": "stream",
          "name": "stdout",
          "text": [
            "           date   quarter  ... no_of_workers actual_productivity\n",
            "0    01-01-2015  Quarter1  ...          59.0            0.940725\n",
            "1    01-01-2015  Quarter1  ...           8.0            0.886500\n",
            "2    01-01-2015  Quarter1  ...          30.5            0.800570\n",
            "3    01-01-2015  Quarter1  ...          30.5            0.800570\n",
            "4    01-01-2015  Quarter1  ...          56.0            0.800382\n",
            "..          ...       ...  ...           ...                 ...\n",
            "795   2/16/2015  Quarter3  ...          15.0            0.722333\n",
            "796   2/16/2015  Quarter3  ...          59.0            0.700460\n",
            "797   2/16/2015  Quarter3  ...          10.0            0.629417\n",
            "798   2/16/2015  Quarter3  ...          59.0            0.621972\n",
            "799   2/16/2015  Quarter3  ...          54.0            0.565972\n",
            "\n",
            "[800 rows x 15 columns]\n"
          ]
        }
      ]
    },
    {
      "cell_type": "code",
      "metadata": {
        "id": "gHnGqxXOLyj5",
        "colab": {
          "base_uri": "https://localhost:8080/"
        },
        "outputId": "e620f253-785e-45a9-f2e5-94f2052f2c0e"
      },
      "source": [
        "j_train=d[801:1197: ]\n",
        "print(j_train )"
      ],
      "execution_count": 14,
      "outputs": [
        {
          "output_type": "stream",
          "name": "stdout",
          "text": [
            "            date   quarter  ... no_of_workers actual_productivity\n",
            "801    2/16/2015  Quarter3  ...          54.0            0.329965\n",
            "802    2/16/2015  Quarter3  ...          15.0            0.258000\n",
            "803    2/17/2015  Quarter3  ...          57.0            1.000230\n",
            "804    2/17/2015  Quarter3  ...           8.0            0.927542\n",
            "805    2/17/2015  Quarter3  ...          10.0            0.913750\n",
            "...          ...       ...  ...           ...                 ...\n",
            "1192  03-11-2015  Quarter2  ...           8.0            0.628333\n",
            "1193  03-11-2015  Quarter2  ...           8.0            0.625625\n",
            "1194  03-11-2015  Quarter2  ...           8.0            0.625625\n",
            "1195  03-11-2015  Quarter2  ...          15.0            0.505889\n",
            "1196  03-11-2015  Quarter2  ...           6.0            0.394722\n",
            "\n",
            "[396 rows x 15 columns]\n"
          ]
        }
      ]
    },
    {
      "cell_type": "code",
      "metadata": {
        "id": "IMZE_DGKLymb",
        "colab": {
          "base_uri": "https://localhost:8080/",
          "height": 282
        },
        "outputId": "e4e7a3b7-f81b-4cfd-90ea-c5d621d0cbd3"
      },
      "source": [
        "from matplotlib import pyplot as pt\n",
        "pt.scatter(x1,y)"
      ],
      "execution_count": 17,
      "outputs": [
        {
          "output_type": "execute_result",
          "data": {
            "text/plain": [
              "<matplotlib.collections.PathCollection at 0x7f6c5bb7d290>"
            ]
          },
          "metadata": {},
          "execution_count": 17
        },
        {
          "output_type": "display_data",
          "data": {
            "image/png": "[encoded data removed]",
            "text/plain": [
              "<Figure size 432x288 with 1 Axes>"
            ]
          },
          "metadata": {
            "needs_background": "light"
          }
        }
      ]
    },
    {
      "cell_type": "code",
      "metadata": {
        "colab": {
          "base_uri": "https://localhost:8080/",
          "height": 282
        },
        "id": "Aqh9fj5UVqgU",
        "outputId": "cc1d21cc-61ab-4f97-ffb9-e3b96827e2dc"
      },
      "source": [
        "pt.scatter(x2,y)"
      ],
      "execution_count": 18,
      "outputs": [
        {
          "output_type": "execute_result",
          "data": {
            "text/plain": [
              "<matplotlib.collections.PathCollection at 0x7f6c5794c350>"
            ]
          },
          "metadata": {},
          "execution_count": 18
        },
        {
          "output_type": "display_data",
          "data": {
            "image/png": "[encoded data removed]",
            "text/plain": [
              "<Figure size 432x288 with 1 Axes>"
            ]
          },
          "metadata": {
            "needs_background": "light"
          }
        }
      ]
    },
    {
      "cell_type": "code",
      "metadata": {
        "colab": {
          "base_uri": "https://localhost:8080/",
          "height": 282
        },
        "id": "QGh0bolrVqjT",
        "outputId": "e8e87fde-5fcb-48fd-d3f0-2e868c689b52"
      },
      "source": [
        "pt.scatter(x3,y)"
      ],
      "execution_count": 19,
      "outputs": [
        {
          "output_type": "execute_result",
          "data": {
            "text/plain": [
              "<matplotlib.collections.PathCollection at 0x7f6c5794c750>"
            ]
          },
          "metadata": {},
          "execution_count": 19
        },
        {
          "output_type": "display_data",
          "data": {
            "image/png": "[encoded data removed]",
            "text/plain": [
              "<Figure size 432x288 with 1 Axes>"
            ]
          },
          "metadata": {
            "needs_background": "light"
          }
        }
      ]
    },
    {
      "cell_type": "code",
      "metadata": {
        "colab": {
          "base_uri": "https://localhost:8080/",
          "height": 282
        },
        "id": "VVr28nlYVqnD",
        "outputId": "0b8f3886-00e8-4c0e-dd00-8c13aef20a0f"
      },
      "source": [
        "pt.scatter(x4,y)"
      ],
      "execution_count": 20,
      "outputs": [
        {
          "output_type": "execute_result",
          "data": {
            "text/plain": [
              "<matplotlib.collections.PathCollection at 0x7f6c5733d510>"
            ]
          },
          "metadata": {},
          "execution_count": 20
        },
        {
          "output_type": "display_data",
          "data": {
            "image/png": "[encoded data removed]",
            "text/plain": [
              "<Figure size 432x288 with 1 Axes>"
            ]
          },
          "metadata": {
            "needs_background": "light"
          }
        }
      ]
    },
    {
      "cell_type": "code",
      "metadata": {
        "colab": {
          "base_uri": "https://localhost:8080/",
          "height": 282
        },
        "id": "za5z5KsqVqp4",
        "outputId": "7881a3e0-af0f-4d0c-b546-0daa39bf6d1a"
      },
      "source": [
        "pt.scatter(x5,y)"
      ],
      "execution_count": 21,
      "outputs": [
        {
          "output_type": "execute_result",
          "data": {
            "text/plain": [
              "<matplotlib.collections.PathCollection at 0x7f6c5732d250>"
            ]
          },
          "metadata": {},
          "execution_count": 21
        },
        {
          "output_type": "display_data",
          "data": {
            "image/png": "[encoded data removed]",
            "text/plain": [
              "<Figure size 432x288 with 1 Axes>"
            ]
          },
          "metadata": {
            "needs_background": "light"
          }
        }
      ]
    },
    {
      "cell_type": "code",
      "metadata": {
        "id": "UvSSGyTULyqV",
        "colab": {
          "base_uri": "https://localhost:8080/",
          "height": 282
        },
        "outputId": "d153c721-8aa4-425f-961f-c420255b62cb"
      },
      "source": [
        "pt.scatter(x6,y)"
      ],
      "execution_count": 22,
      "outputs": [
        {
          "output_type": "execute_result",
          "data": {
            "text/plain": [
              "<matplotlib.collections.PathCollection at 0x7f6c57299150>"
            ]
          },
          "metadata": {},
          "execution_count": 22
        },
        {
          "output_type": "display_data",
          "data": {
            "image/png": "[encoded data removed]",
            "text/plain": [
              "<Figure size 432x288 with 1 Axes>"
            ]
          },
          "metadata": {
            "needs_background": "light"
          }
        }
      ]
    },
    {
      "cell_type": "code",
      "metadata": {
        "colab": {
          "base_uri": "https://localhost:8080/",
          "height": 282
        },
        "id": "7W-nUJVJWOoi",
        "outputId": "544bf1a4-7c55-43bf-be16-1cdccc729ecf"
      },
      "source": [
        "pt.scatter(x6,y)"
      ],
      "execution_count": 23,
      "outputs": [
        {
          "output_type": "execute_result",
          "data": {
            "text/plain": [
              "<matplotlib.collections.PathCollection at 0x7f6c57206ad0>"
            ]
          },
          "metadata": {},
          "execution_count": 23
        },
        {
          "output_type": "display_data",
          "data": {
            "image/png": "[encoded data removed]",
            "text/plain": [
              "<Figure size 432x288 with 1 Axes>"
            ]
          },
          "metadata": {
            "needs_background": "light"
          }
        }
      ]
    },
    {
      "cell_type": "code",
      "metadata": {
        "colab": {
          "base_uri": "https://localhost:8080/",
          "height": 282
        },
        "id": "vFo4RQxzWOrQ",
        "outputId": "f973abbe-9186-4732-d3b7-3d535e0a71bc"
      },
      "source": [
        "pt.scatter(x7,y)"
      ],
      "execution_count": 24,
      "outputs": [
        {
          "output_type": "execute_result",
          "data": {
            "text/plain": [
              "<matplotlib.collections.PathCollection at 0x7f6c5717dd90>"
            ]
          },
          "metadata": {},
          "execution_count": 24
        },
        {
          "output_type": "display_data",
          "data": {
            "image/png": "[encoded data removed]",
            "text/plain": [
              "<Figure size 432x288 with 1 Axes>"
            ]
          },
          "metadata": {
            "needs_background": "light"
          }
        }
      ]
    },
    {
      "cell_type": "code",
      "metadata": {
        "colab": {
          "base_uri": "https://localhost:8080/",
          "height": 282
        },
        "id": "ONE1ru4JWOvx",
        "outputId": "c839cb5a-d980-41fb-bc34-f6f9b52058bc"
      },
      "source": [
        "pt.scatter(x8,y)"
      ],
      "execution_count": 25,
      "outputs": [
        {
          "output_type": "execute_result",
          "data": {
            "text/plain": [
              "<matplotlib.collections.PathCollection at 0x7f6c570fc150>"
            ]
          },
          "metadata": {},
          "execution_count": 25
        },
        {
          "output_type": "display_data",
          "data": {
            "image/png": "[encoded data removed]",
            "text/plain": [
              "<Figure size 432x288 with 1 Axes>"
            ]
          },
          "metadata": {
            "needs_background": "light"
          }
        }
      ]
    },
    {
      "cell_type": "code",
      "metadata": {
        "colab": {
          "base_uri": "https://localhost:8080/",
          "height": 282
        },
        "id": "CnR4FhD4WO2h",
        "outputId": "db85949b-07e6-49e0-93c3-56329496d7a4"
      },
      "source": [
        "pt.scatter(x9,y)"
      ],
      "execution_count": 26,
      "outputs": [
        {
          "output_type": "execute_result",
          "data": {
            "text/plain": [
              "<matplotlib.collections.PathCollection at 0x7f6c570e8cd0>"
            ]
          },
          "metadata": {},
          "execution_count": 26
        },
        {
          "output_type": "display_data",
          "data": {
            "image/png": "[encoded data removed]",
            "text/plain": [
              "<Figure size 432x288 with 1 Axes>"
            ]
          },
          "metadata": {
            "needs_background": "light"
          }
        }
      ]
    },
    {
      "cell_type": "code",
      "metadata": {
        "id": "t1-Ah7rrLyuV",
        "colab": {
          "base_uri": "https://localhost:8080/",
          "height": 282
        },
        "outputId": "85506b3b-08d4-4cea-9c70-26ddc3705eae"
      },
      "source": [
        "pt.scatter(x10,y)"
      ],
      "execution_count": 27,
      "outputs": [
        {
          "output_type": "execute_result",
          "data": {
            "text/plain": [
              "<matplotlib.collections.PathCollection at 0x7f6c57055b10>"
            ]
          },
          "metadata": {},
          "execution_count": 27
        },
        {
          "output_type": "display_data",
          "data": {
            "image/png": "[encoded data removed]",
            "text/plain": [
              "<Figure size 432x288 with 1 Axes>"
            ]
          },
          "metadata": {
            "needs_background": "light"
          }
        }
      ]
    },
    {
      "cell_type": "code",
      "metadata": {
        "id": "KOs_uqkpWao-"
      },
      "source": [
        ""
      ],
      "execution_count": null,
      "outputs": []
    }
  ]
}